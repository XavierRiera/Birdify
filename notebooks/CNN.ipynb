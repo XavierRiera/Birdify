{
 "cells": [
  {
   "cell_type": "markdown",
   "id": "8ecb56f4",
   "metadata": {},
   "source": [
    "# Bird Sound Classification with CNN\n",
    "This notebook implements a CNN-based classifier using Mel spectrograms extracted from bird sound recordings."
   ]
  },
  {
   "cell_type": "code",
   "execution_count": 1,
   "id": "3926defb",
   "metadata": {},
   "outputs": [],
   "source": [
    "\n",
    "import os\n",
    "import numpy as np\n",
    "import matplotlib.pyplot as plt\n",
    "import librosa\n",
    "import librosa.display\n",
    "import tensorflow as tf\n",
    "from tensorflow.keras import layers, models\n",
    "from sklearn.model_selection import train_test_split\n",
    "from sklearn.metrics import classification_report, confusion_matrix\n",
    "from sklearn.preprocessing import LabelEncoder\n",
    "import seaborn as sns\n",
    "from pathlib import Path\n"
   ]
  },
  {
   "cell_type": "code",
   "execution_count": 2,
   "id": "5e384e79",
   "metadata": {},
   "outputs": [],
   "source": [
    "\n",
    "SAMPLE_RATE = 22050\n",
    "DURATION = 5  # seconds\n",
    "N_MELS = 128\n",
    "N_FFT = 2048\n",
    "HOP_LENGTH = 512\n",
    "MAX_PAD_LEN = int(np.ceil((SAMPLE_RATE * DURATION) / HOP_LENGTH))\n",
    "AUDIO_DIR = r\"C:\\UPF\\Taller de Tecnologia Musical\\Birdify\\data\\processed\\birdcall_segments_5s\\birdcall_segments_5s\"\n"
   ]
  },
  {
   "cell_type": "code",
   "execution_count": 3,
   "id": "609b27ef",
   "metadata": {},
   "outputs": [],
   "source": [
    "\n",
    "def load_and_preprocess_audio(file_path):\n",
    "    y, sr = librosa.load(file_path, sr=SAMPLE_RATE, duration=DURATION)\n",
    "    \n",
    "    S = librosa.feature.melspectrogram(y=y, sr=sr, n_mels=N_MELS, n_fft=N_FFT, hop_length=HOP_LENGTH)\n",
    "    S_dB = librosa.power_to_db(S, ref=np.max)\n",
    "    S_dB = (S_dB - np.min(S_dB)) / (np.max(S_dB) - np.min(S_dB))\n",
    "    S_dB = np.pad(S_dB, ((0, 0), (0, max(0, MAX_PAD_LEN - S_dB.shape[1]))), mode='constant')\n",
    "    S_dB = S_dB[:, :MAX_PAD_LEN]\n",
    "    return S_dB[..., np.newaxis]\n"
   ]
  },
  {
   "cell_type": "code",
   "execution_count": 4,
   "id": "d89afcc5",
   "metadata": {},
   "outputs": [],
   "source": [
    "\n",
    "def create_dataset():\n",
    "    wav_files = list(Path(AUDIO_DIR).glob(\"*.wav\"))\n",
    "    labels = [f.stem.split('_')[0] for f in wav_files]\n",
    "\n",
    "    label_encoder = LabelEncoder()\n",
    "    y = label_encoder.fit_transform(labels)\n",
    "\n",
    "    X = []\n",
    "    y_clean = []\n",
    "\n",
    "    for f, label in zip(wav_files, y):\n",
    "        spec = load_and_preprocess_audio(f)\n",
    "        if spec is not None:\n",
    "            X.append(spec)\n",
    "            y_clean.append(label)\n",
    "\n",
    "    X = np.array(X)\n",
    "    y_clean = np.array(y_clean)\n",
    "\n",
    "    return X, y_clean, label_encoder\n"
   ]
  },
  {
   "cell_type": "code",
   "execution_count": 5,
   "id": "45e3139c",
   "metadata": {},
   "outputs": [],
   "source": [
    "\n",
    "def create_improved_cnn(input_shape, num_classes):\n",
    "    model = models.Sequential([\n",
    "        layers.Input(shape=input_shape),\n",
    "        layers.Conv2D(32, (3, 3), activation='relu', padding='same'),\n",
    "        layers.BatchNormalization(),\n",
    "        layers.Conv2D(32, (3, 3), activation='relu', padding='same'),\n",
    "        layers.MaxPooling2D((2, 2)),\n",
    "        layers.Dropout(0.25),\n",
    "        \n",
    "        layers.Conv2D(64, (3, 3), activation='relu', padding='same'),\n",
    "        layers.BatchNormalization(),\n",
    "        layers.Conv2D(64, (3, 3), activation='relu', padding='same'),\n",
    "        layers.MaxPooling2D((2, 2)),\n",
    "        layers.Dropout(0.25),\n",
    "        \n",
    "        layers.Conv2D(128, (3, 3), activation='relu', padding='same'),\n",
    "        layers.BatchNormalization(),\n",
    "        layers.GlobalAveragePooling2D(),\n",
    "        \n",
    "        layers.Dense(256, activation='relu'),\n",
    "        layers.Dropout(0.5),\n",
    "        layers.Dense(num_classes, activation='softmax')\n",
    "    ])\n",
    "    return model\n"
   ]
  },
  {
   "cell_type": "code",
   "execution_count": 6,
   "id": "78920e91",
   "metadata": {},
   "outputs": [],
   "source": [
    "\n",
    "def train_cnn_model():\n",
    "    X, y, label_encoder = create_dataset()\n",
    "    X_train, X_test, y_train, y_test = train_test_split(X, y, test_size=0.2, stratify=y, random_state=42)\n",
    "    \n",
    "    input_shape = X_train[0].shape\n",
    "    num_classes = len(np.unique(y))\n",
    "\n",
    "    model = create_improved_cnn(input_shape, num_classes)\n",
    "    model.compile(optimizer=tf.keras.optimizers.Adam(learning_rate=0.0001), loss='sparse_categorical_crossentropy', metrics=['accuracy'])\n",
    "\n",
    "    early_stopping = tf.keras.callbacks.EarlyStopping(monitor='val_loss', patience=5, restore_best_weights=True)\n",
    "\n",
    "    history = model.fit(X_train, y_train, validation_split=0.2, epochs=50, batch_size=16, callbacks=[early_stopping])\n",
    "\n",
    "    return model, history, label_encoder, X_test, y_test\n"
   ]
  },
  {
   "cell_type": "code",
   "execution_count": 7,
   "id": "bcd2a28b",
   "metadata": {},
   "outputs": [],
   "source": [
    "\n",
    "def plot_confusion_matrix(y_true, y_pred, classes):\n",
    "    cm = confusion_matrix(y_true, y_pred)\n",
    "    plt.figure(figsize=(10, 8))\n",
    "    sns.heatmap(cm, annot=True, fmt='d', xticklabels=classes, yticklabels=classes, cmap='Blues')\n",
    "    plt.ylabel('True')\n",
    "    plt.xlabel('Predicted')\n",
    "    plt.title('Confusion Matrix')\n",
    "    plt.show()\n"
   ]
  },
  {
   "cell_type": "code",
   "execution_count": null,
   "id": "85adedaa",
   "metadata": {},
   "outputs": [],
   "source": [
    "\n",
    "model, history, label_encoder, X_test, y_test = train_cnn_model()\n",
    "test_loss, test_acc = model.evaluate(X_test, y_test)\n",
    "print(f\"Test Accuracy: {test_acc:.2f}\")\n",
    "\n",
    "y_pred = np.argmax(model.predict(X_test), axis=1)\n",
    "print(classification_report(y_test, y_pred, target_names=label_encoder.classes_))\n",
    "plot_confusion_matrix(y_test, y_pred, label_encoder.classes_)\n"
   ]
  },
  {
   "cell_type": "code",
   "execution_count": null,
   "id": "b574c09f",
   "metadata": {},
   "outputs": [
    {
     "ename": "NameError",
     "evalue": "name 'X' is not defined",
     "output_type": "error",
     "traceback": [
      "\u001b[1;31m---------------------------------------------------------------------------\u001b[0m",
      "\u001b[1;31mNameError\u001b[0m                                 Traceback (most recent call last)",
      "Cell \u001b[1;32mIn[25], line 1\u001b[0m\n\u001b[1;32m----> 1\u001b[0m \u001b[38;5;28mprint\u001b[39m(\u001b[38;5;124m\"\u001b[39m\u001b[38;5;124mX shape:\u001b[39m\u001b[38;5;124m\"\u001b[39m, \u001b[43mX\u001b[49m\u001b[38;5;241m.\u001b[39mshape)\n\u001b[0;32m      2\u001b[0m \u001b[38;5;28mprint\u001b[39m(\u001b[38;5;124m\"\u001b[39m\u001b[38;5;124my shape:\u001b[39m\u001b[38;5;124m\"\u001b[39m, y\u001b[38;5;241m.\u001b[39mshape)\n",
      "\u001b[1;31mNameError\u001b[0m: name 'X' is not defined"
     ]
    }
   ],
   "source": [
    "print(\"X shape:\", X.shape)\n",
    "print(\"y shape:\", y.shape)"
   ]
  }
 ],
 "metadata": {
  "kernelspec": {
   "display_name": ".venv",
   "language": "python",
   "name": "python3"
  },
  "language_info": {
   "codemirror_mode": {
    "name": "ipython",
    "version": 3
   },
   "file_extension": ".py",
   "mimetype": "text/x-python",
   "name": "python",
   "nbconvert_exporter": "python",
   "pygments_lexer": "ipython3",
   "version": "3.11.9"
  }
 },
 "nbformat": 4,
 "nbformat_minor": 5
}
