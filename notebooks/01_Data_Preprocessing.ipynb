{
 "cells": [
  {
   "cell_type": "code",
   "execution_count": 2,
   "metadata": {},
   "outputs": [
    {
     "name": "stdout",
     "output_type": "stream",
     "text": [
      "Base directory: /Users/mariaprosgaznares/Desktop/Birdify/notebooks\n",
      "Exists: True\n",
      "\n",
      "Data directory: /Users/mariaprosgaznares/Desktop/Birdify/notebooks/data\n",
      "Exists: True\n",
      "Raw data directory: /Users/mariaprosgaznares/Desktop/Birdify/notebooks/data/raw\n",
      "Exists: True\n",
      "Processed data directory: /Users/mariaprosgaznares/Desktop/Birdify/notebooks/data/processed\n",
      "Exists: True\n",
      "Features directory: /Users/mariaprosgaznares/Desktop/Birdify/notebooks/data/features\n",
      "Exists: True\n",
      "\n",
      "Metadata path: /Users/mariaprosgaznares/Desktop/Birdify/notebooks/data/raw/Birds Voice.csv\n",
      "Exists: False\n",
      "\n",
      "Audio files directory: /Users/mariaprosgaznares/Desktop/Birdify/notebooks/data/raw/Voice of Birds\n",
      "Exists: False\n",
      "\n",
      "Warning: Audio files directory not found!\n"
     ]
    }
   ],
   "source": [
    "from pathlib import Path\n",
    "import os\n",
    "\n",
    "# Define the base directory explicitly (path to /Birdify/notebooks)\n",
    "base_dir = Path('/Users/mariaprosgaznares/Desktop/Birdify/notebooks')\n",
    "print(f\"Base directory: {base_dir}\\nExists: {base_dir.exists()}\\n\")\n",
    "\n",
    "# Data directories\n",
    "data_dir = base_dir / 'data'\n",
    "raw_data_dir = data_dir / 'raw'\n",
    "processed_data_dir = data_dir / 'processed'\n",
    "features_dir = data_dir / 'features'\n",
    "\n",
    "print(f\"Data directory: {data_dir}\\nExists: {data_dir.exists()}\")\n",
    "print(f\"Raw data directory: {raw_data_dir}\\nExists: {raw_data_dir.exists()}\")\n",
    "print(f\"Processed data directory: {processed_data_dir}\\nExists: {processed_data_dir.exists()}\")\n",
    "print(f\"Features directory: {features_dir}\\nExists: {features_dir.exists()}\\n\")\n",
    "\n",
    "# Path to metadata CSV\n",
    "metadata_path = raw_data_dir / 'Birds Voice.csv'\n",
    "print(f\"Metadata path: {metadata_path}\\nExists: {metadata_path.exists()}\\n\")\n",
    "\n",
    "# Path to audio files\n",
    "audio_files_dir = raw_data_dir / 'Voice of Birds'\n",
    "print(f\"Audio files directory: {audio_files_dir}\\nExists: {audio_files_dir.exists()}\\n\")\n",
    "\n",
    "# List bird folders if audio directory exists\n",
    "if audio_files_dir.exists():\n",
    "    bird_folders = [d for d in audio_files_dir.iterdir() if d.is_dir()]\n",
    "    print(f\"Found {len(bird_folders)} bird folders\")\n",
    "    if bird_folders:\n",
    "        print(\"\\nFirst few bird folders:\")\n",
    "        for bird_folder in bird_folders[:3]:  # Print first 3 as samples\n",
    "            print(f\"- {bird_folder.name}\")\n",
    "        \n",
    "        # Check MP3 files in first bird folder\n",
    "        sample_bird = bird_folders[0]\n",
    "        mp3_files = list(sample_bird.glob('*.mp3'))\n",
    "        print(f\"\\nFound {len(mp3_files)} MP3 files in {sample_bird.name}\")\n",
    "        if mp3_files:\n",
    "            print(\"\\nFirst few MP3 files:\")\n",
    "            for mp3 in mp3_files[:3]:  # Print first 3 as samples\n",
    "                print(f\"- {mp3.name}\")\n",
    "else:\n",
    "    print(\"Warning: Audio files directory not found!\")\n"
   ]
  }
 ],
 "metadata": {
  "kernelspec": {
   "display_name": ".venv",
   "language": "python",
   "name": "python3"
  },
  "language_info": {
   "codemirror_mode": {
    "name": "ipython",
    "version": 3
   },
   "file_extension": ".py",
   "mimetype": "text/x-python",
   "name": "python",
   "nbconvert_exporter": "python",
   "pygments_lexer": "ipython3",
   "version": "3.9.21"
  }
 },
 "nbformat": 4,
 "nbformat_minor": 2
}
