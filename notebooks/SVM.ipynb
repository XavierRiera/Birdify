{
 "cells": [
  {
   "cell_type": "code",
   "execution_count": null,
   "id": "50a4f96b",
   "metadata": {},
   "outputs": [
    {
     "name": "stdout",
     "output_type": "stream",
     "text": [
      "                       precision    recall  f1-score   support\n",
      "\n",
      "       Andean_Tinamou       0.70      1.00      0.82         7\n",
      "Chestnut-bellied_Guan       1.00      1.00      1.00         7\n",
      "                  Emu       1.00      1.00      1.00        13\n",
      "       Little_Tinamou       1.00      0.92      0.96        12\n",
      "                Maleo       0.35      1.00      0.52         8\n",
      "           Malleefowl       1.00      0.67      0.80         6\n",
      " Micronesian_Megapode       1.00      0.92      0.96        13\n",
      "    Moluccan_Megapode       0.00      0.00      0.00        13\n",
      "       Somali_Ostrich       1.00      1.00      1.00         5\n",
      "  Speckled_Chachalaca       0.90      0.82      0.86        11\n",
      "           Spixs_Guan       0.80      0.80      0.80        10\n",
      "\n",
      "             accuracy                           0.80       105\n",
      "            macro avg       0.80      0.83      0.79       105\n",
      "         weighted avg       0.78      0.80      0.77       105\n",
      "\n"
     ]
    },
    {
     "name": "stderr",
     "output_type": "stream",
     "text": [
      "c:\\Users\\PORT_CINTA\\Desktop\\data science\\3\\music technology\\Birdify\\.venv\\lib\\site-packages\\sklearn\\metrics\\_classification.py:1469: UndefinedMetricWarning: Precision and F-score are ill-defined and being set to 0.0 in labels with no predicted samples. Use `zero_division` parameter to control this behavior.\n",
      "  _warn_prf(average, modifier, msg_start, len(result))\n",
      "c:\\Users\\PORT_CINTA\\Desktop\\data science\\3\\music technology\\Birdify\\.venv\\lib\\site-packages\\sklearn\\metrics\\_classification.py:1469: UndefinedMetricWarning: Precision and F-score are ill-defined and being set to 0.0 in labels with no predicted samples. Use `zero_division` parameter to control this behavior.\n",
      "  _warn_prf(average, modifier, msg_start, len(result))\n",
      "c:\\Users\\PORT_CINTA\\Desktop\\data science\\3\\music technology\\Birdify\\.venv\\lib\\site-packages\\sklearn\\metrics\\_classification.py:1469: UndefinedMetricWarning: Precision and F-score are ill-defined and being set to 0.0 in labels with no predicted samples. Use `zero_division` parameter to control this behavior.\n",
      "  _warn_prf(average, modifier, msg_start, len(result))\n"
     ]
    }
   ],
   "source": [
    "import pandas as pd                                             # data handling\n",
    "from sklearn.model_selection import train_test_split\n",
    "from sklearn.preprocessing import LabelEncoder, StandardScaler  # convert categorical to numerical\n",
    "from sklearn.svm import SVC                                     # support vector classifier for ML model\n",
    "from sklearn.metrics import classification_report               # model evaluation\n",
    "from pathlib import Path                                        # filesystem path management\n",
    "\n",
    "# Set base directory: if working inside a notebooks folder, go one level up\n",
    "BASE_DIR = Path.cwd() if 'notebooks' not in str(Path.cwd()) else Path.cwd().parent\n",
    "\n",
    "# Define data directories relative to the project root\n",
    "DATA_DIR = BASE_DIR / 'data'\n",
    "PROCESSED_DATA_DIR = DATA_DIR / 'processed' / 'birdcall_segments_3s'\n",
    "FEATURES_PATH = DATA_DIR / 'features' / 'bird_features.csv'\n",
    "\n",
    "# Load the extracted features CSV\n",
    "features_df = pd.read_csv(FEATURES_PATH)\n",
    "\n",
    "# Separate features and labels\n",
    "X = features_df.drop(columns=[\"label\", \"source_file\"])\n",
    "y = features_df[\"label\"]\n",
    "\n",
    "# Encode labels\n",
    "label_encoder = LabelEncoder()\n",
    "y_encoded = label_encoder.fit_transform(y)\n",
    "\n",
    "# Scale features\n",
    "scaler = StandardScaler()\n",
    "X_scaled = scaler.fit_transform(X)      # standardize features (0 mean, 1 variance)\n",
    "\n",
    "# Split into train and test\n",
    "X_train, X_test, y_train, y_test = train_test_split(X_scaled, y_encoded, test_size=0.2, random_state=42)\n",
    "\n",
    "# Train SVM\n",
    "clf = SVC(kernel='rbf', C=1, gamma='scale')\n",
    "clf.fit(X_train, y_train)\n",
    "\n",
    "# Evaluate\n",
    "y_pred = clf.predict(X_test)\n",
    "print(classification_report(y_test, y_pred, target_names=label_encoder.classes_))\n"
   ]
  }
 ],
 "metadata": {
  "kernelspec": {
   "display_name": ".venv",
   "language": "python",
   "name": "python3"
  },
  "language_info": {
   "codemirror_mode": {
    "name": "ipython",
    "version": 3
   },
   "file_extension": ".py",
   "mimetype": "text/x-python",
   "name": "python",
   "nbconvert_exporter": "python",
   "pygments_lexer": "ipython3",
   "version": "3.9.13"
  }
 },
 "nbformat": 4,
 "nbformat_minor": 5
}
